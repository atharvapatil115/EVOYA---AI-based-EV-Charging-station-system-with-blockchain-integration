{
 "cells": [
  {
   "cell_type": "code",
   "execution_count": 1,
   "id": "0de2b9e8",
   "metadata": {},
   "outputs": [],
   "source": [
    "import pandas as pd\n",
    "import numpy as np\n",
    "\n",
    "# Load the dataset\n",
    "df = pd.read_csv('ev-charging-stations-india.csv')"
   ]
  },
  {
   "cell_type": "code",
   "execution_count": 4,
   "id": "23c3891c",
   "metadata": {},
   "outputs": [
    {
     "name": "stdout",
     "output_type": "stream",
     "text": [
      "Missing values before cleaning:\n",
      "name         1\n",
      "state        1\n",
      "city         1\n",
      "address      0\n",
      "lattitude    1\n",
      "longitude    0\n",
      "dtype: int64\n"
     ]
    }
   ],
   "source": [
    "# Step 1.1: Handle missing values\n",
    "# Check for missing values\n",
    "print(\"Missing values before cleaning:\")\n",
    "print(df.isnull().sum())"
   ]
  },
  {
   "cell_type": "code",
   "execution_count": 3,
   "id": "2e5d7e10",
   "metadata": {},
   "outputs": [],
   "source": [
    "# Fill missing addresses with a placeholder\n",
    "df['address'] = df['address'].fillna('Unknown Address')"
   ]
  },
  {
   "cell_type": "code",
   "execution_count": 5,
   "id": "4a8174ed",
   "metadata": {},
   "outputs": [],
   "source": [
    "\n",
    "# Remove rows with missing latitude or longitude\n",
    "df = df.dropna(subset=['lattitude', 'longitude'])"
   ]
  },
  {
   "cell_type": "code",
   "execution_count": 6,
   "id": "20fbb356",
   "metadata": {},
   "outputs": [],
   "source": [
    "\n",
    "# Step 1.2: Correct data types\n",
    "# Ensure latitude and longitude are floats\n",
    "df['lattitude'] = pd.to_numeric(df['lattitude'], errors='coerce')\n",
    "df['longitude'] = pd.to_numeric(df['longitude'], errors='coerce')\n",
    "\n",
    "# Step 1.3: Validate latitude and longitude\n",
    "# Latitude should be between -90 and 90, longitude between -180 and 180\n",
    "df = df[(df['lattitude'].between(-90, 90)) & (df['longitude'].between(-180, 180))]\n",
    "\n",
    "# Step 1.4: Remove duplicates based on name, latitude, and longitude\n",
    "df = df.drop_duplicates(subset=['name', 'lattitude', 'longitude'])"
   ]
  },
  {
   "cell_type": "code",
   "execution_count": 7,
   "id": "87dc0bfe",
   "metadata": {},
   "outputs": [
    {
     "name": "stdout",
     "output_type": "stream",
     "text": [
      "Cleaned dataset saved as 'cleaned_ev_charging_stations.csv'\n",
      "Missing values after cleaning:\n",
      "name         0\n",
      "state        0\n",
      "city         0\n",
      "address      0\n",
      "lattitude    0\n",
      "longitude    0\n",
      "dtype: int64\n",
      "Dataset shape: (1220, 6)\n"
     ]
    }
   ],
   "source": [
    "\n",
    "# Step 1.5: Standardize state and city names (convert to title case)\n",
    "df['state'] = df['state'].str.title().str.strip()\n",
    "df['city'] = df['city'].str.title().str.strip()\n",
    "\n",
    "# Step 1.6: Save cleaned dataset\n",
    "df.to_csv('cleaned_ev_charging_stations.csv', index=False)\n",
    "\n",
    "print(\"Cleaned dataset saved as 'cleaned_ev_charging_stations.csv'\")\n",
    "print(\"Missing values after cleaning:\")\n",
    "print(df.isnull().sum())\n",
    "print(\"Dataset shape:\", df.shape)"
   ]
  },
  {
   "cell_type": "code",
   "execution_count": null,
   "id": "ee7341aa",
   "metadata": {},
   "outputs": [],
   "source": []
  }
 ],
 "metadata": {
  "kernelspec": {
   "display_name": "Python 3",
   "language": "python",
   "name": "python3"
  },
  "language_info": {
   "codemirror_mode": {
    "name": "ipython",
    "version": 3
   },
   "file_extension": ".py",
   "mimetype": "text/x-python",
   "name": "python",
   "nbconvert_exporter": "python",
   "pygments_lexer": "ipython3",
   "version": "3.12.4"
  }
 },
 "nbformat": 4,
 "nbformat_minor": 5
}
